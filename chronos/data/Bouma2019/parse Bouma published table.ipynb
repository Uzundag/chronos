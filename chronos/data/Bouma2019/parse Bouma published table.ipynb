{
 "cells": [
  {
   "cell_type": "markdown",
   "metadata": {},
   "source": [
    "# Catalog members\n",
    "* Bouma+2019\n",
    "\n",
    "Problem: file is so large that loading the table to RAM crashes my laptop! \n",
    "\n",
    "\n",
    "Solution: Dask! But dask does not understand the cds header format so this file should be read into memory first using `ascii.read` with specified formatting, then turn into `pd.DataFrame` and finally into dask `dask.dataframe`."
   ]
  },
  {
   "cell_type": "code",
   "execution_count": 1,
   "metadata": {},
   "outputs": [
    {
     "data": {
      "text/plain": [
       "1815328"
      ]
     },
     "execution_count": 1,
     "metadata": {},
     "output_type": "execute_result"
    }
   ],
   "source": [
    "fp = '../../apjsab4a7et1_mrt.txt'\n",
    "nrows = sum(1 for _ in open(fp, 'rb'))\n",
    "nrows"
   ]
  },
  {
   "cell_type": "code",
   "execution_count": 2,
   "metadata": {
    "scrolled": true
   },
   "outputs": [
    {
     "name": "stdout",
     "output_type": "stream",
     "text": [
      "-rw-r--r-- 1 jp jp 902M Jan 16 12:06 ../../apjsab4a7et1_mrt.txt\r\n"
     ]
    }
   ],
   "source": [
    "!ls -lh ../../apjsab4a7et1_mrt.txt"
   ]
  },
  {
   "cell_type": "markdown",
   "metadata": {},
   "source": [
    "## parse original published table into smaller csv"
   ]
  },
  {
   "cell_type": "markdown",
   "metadata": {},
   "source": [
    "### read into memory using ascii.read"
   ]
  },
  {
   "cell_type": "code",
   "execution_count": 15,
   "metadata": {},
   "outputs": [
    {
     "name": "stderr",
     "output_type": "stream",
     "text": [
      "WARNING: UnitsWarning: '[yr]' did not parse as cds unit: Invalid character at col 0 If this is meant to be a custom unit, define it with 'u.def_unit'. To have it recognized inside a file reader or other code, enable it with 'u.add_enabled_units'. For details, see http://docs.astropy.org/en/latest/units/combining_and_defining.html [astropy.units.core]\n"
     ]
    },
    {
     "data": {
      "text/html": [
       "<i>Table length=234914</i>\n",
       "<table id=\"table140709089260048\" class=\"table-striped table-bordered table-condensed\">\n",
       "<thead><tr><th>ID</th><th>Cluster</th><th>Ref</th><th>CName</th><th>RAdeg</th><th>DEdeg</th><th>pmRA</th><th>pmDE</th><th>plx</th><th>Gmag</th><th>GBp</th><th>GRp</th><th>K13</th><th>Unique</th><th>How</th><th>inK13</th><th>Com</th><th>logt</th><th>e_logt</th></tr></thead>\n",
       "<thead><tr><th></th><th></th><th></th><th></th><th>deg</th><th>deg</th><th>mas / yr</th><th>mas / yr</th><th>mas</th><th>mag</th><th>mag</th><th>mag</th><th></th><th></th><th></th><th></th><th></th><th>[yr]</th><th>[yr]</th></tr></thead>\n",
       "<thead><tr><th>int64</th><th>str113</th><th>str247</th><th>str187</th><th>float64</th><th>float64</th><th>float64</th><th>float64</th><th>float64</th><th>float64</th><th>float64</th><th>float64</th><th>str17</th><th>str17</th><th>str31</th><th>str5</th><th>str144</th><th>float64</th><th>float64</th></tr></thead>\n",
       "<tr><td>915553884118144</td><td>--</td><td>Zari_2018_UMS</td><td>915553884118144</td><td>45.4082</td><td>2.16827</td><td>-5.33216</td><td>-4.48147</td><td>2.16337</td><td>9.071</td><td>9.1287</td><td>8.9934</td><td>--</td><td>--</td><td>--</td><td>--</td><td>--</td><td>--</td><td>--</td></tr>\n",
       "<tr><td>1195551392247936</td><td>--</td><td>Zari_2018_UMS</td><td>1195551392247936</td><td>43.8815</td><td>2.01822</td><td>6.07063</td><td>-11.7618</td><td>6.10161</td><td>6.575</td><td>6.5825</td><td>6.6281</td><td>--</td><td>--</td><td>--</td><td>--</td><td>--</td><td>--</td><td>--</td></tr>\n",
       "<tr><td>1402912413121792</td><td>--</td><td>Zari_2018_UMS</td><td>1402912413121792</td><td>44.3752</td><td>2.8959</td><td>7.40878</td><td>-14.3087</td><td>2.09202</td><td>10.367</td><td>10.4273</td><td>10.2129</td><td>--</td><td>--</td><td>--</td><td>--</td><td>--</td><td>--</td><td>--</td></tr>\n",
       "<tr><td>1546703623466880</td><td>--</td><td>Zari_2018_UMS</td><td>1546703623466880</td><td>42.9593</td><td>2.92046</td><td>1.5975</td><td>1.72112</td><td>2.8533</td><td>10.0334</td><td>10.2293</td><td>9.7443</td><td>--</td><td>--</td><td>--</td><td>--</td><td>--</td><td>--</td><td>--</td></tr>\n",
       "<tr><td>1939920764151808</td><td>--</td><td>Zari_2018_PMS</td><td>1939920764151808</td><td>45.5998</td><td>3.70765</td><td>2.25357</td><td>-8.90602</td><td>8.91902</td><td>14.3586</td><td>15.9104</td><td>13.1393</td><td>--</td><td>--</td><td>--</td><td>--</td><td>--</td><td>--</td><td>--</td></tr>\n",
       "<tr><td>2015099871749760</td><td>--</td><td>Zari_2018_UMS</td><td>2015099871749760</td><td>44.8897</td><td>3.51755</td><td>1.95284</td><td>-5.41662</td><td>3.38203</td><td>8.6851</td><td>8.8298</td><td>8.4833</td><td>--</td><td>--</td><td>--</td><td>--</td><td>--</td><td>--</td><td>--</td></tr>\n",
       "<tr><td>2058736739430272</td><td>--</td><td>Zari_2018_UMS</td><td>2058736739430272</td><td>43.7842</td><td>3.48682</td><td>29.6576</td><td>-12.8301</td><td>11.5396</td><td>6.8383</td><td>7.0073</td><td>6.5984</td><td>--</td><td>--</td><td>--</td><td>--</td><td>--</td><td>--</td><td>--</td></tr>\n",
       "<tr><td>2151508033360512</td><td>--</td><td>Zari_2018_PMS</td><td>2151508033360512</td><td>45.2943</td><td>4.02595</td><td>2.56979</td><td>-2.30765</td><td>2.24184</td><td>17.0287</td><td>18.4748</td><td>15.836</td><td>--</td><td>--</td><td>--</td><td>--</td><td>--</td><td>--</td><td>--</td></tr>\n",
       "<tr><td>2261149958207104</td><td>--</td><td>Zari_2018_UMS</td><td>2261149958207104</td><td>48.0296</td><td>2.58408</td><td>-0.73287</td><td>-6.10393</td><td>4.9264</td><td>9.5607</td><td>9.7754</td><td>9.2114</td><td>--</td><td>--</td><td>--</td><td>--</td><td>--</td><td>--</td><td>--</td></tr>\n",
       "<tr><td>...</td><td>...</td><td>...</td><td>...</td><td>...</td><td>...</td><td>...</td><td>...</td><td>...</td><td>...</td><td>...</td><td>...</td><td>...</td><td>...</td><td>...</td><td>...</td><td>...</td><td>...</td><td>...</td></tr>\n",
       "<tr><td>945413217718140928</td><td>NGC_2281</td><td>CantatGaudin_2018</td><td>945413217718140928</td><td>101.738</td><td>40.0842</td><td>-2.78179</td><td>-8.57435</td><td>1.85685</td><td>11.703</td><td>11.9207</td><td>11.348</td><td>NGC_2281</td><td>NGC_2281</td><td>string_match</td><td>False</td><td>--</td><td>8.785</td><td>0.022</td></tr>\n",
       "<tr><td>945415249239321088</td><td>--</td><td>Zari_2018_UMS</td><td>945415249239321088</td><td>101.905</td><td>40.1749</td><td>0.351524</td><td>-13.234</td><td>2.53722</td><td>10.1765</td><td>10.3851</td><td>9.8569</td><td>--</td><td>--</td><td>--</td><td>--</td><td>--</td><td>--</td><td>--</td></tr>\n",
       "<tr><td>945418925731348352</td><td>--</td><td>Zari_2018_UMS</td><td>945418925731348352</td><td>101.695</td><td>40.2382</td><td>-11.0008</td><td>-12.8665</td><td>4.01369</td><td>8.2576</td><td>8.2856</td><td>8.2362</td><td>--</td><td>--</td><td>--</td><td>--</td><td>--</td><td>--</td><td>--</td></tr>\n",
       "<tr><td>945418960091083520</td><td>NGC_2281</td><td>CantatGaudin_2018</td><td>945418960091083520</td><td>101.708</td><td>40.2541</td><td>-3.12516</td><td>-8.51171</td><td>2.01393</td><td>16.5887</td><td>17.4849</td><td>15.6345</td><td>NGC_2281</td><td>NGC_2281</td><td>string_match</td><td>False</td><td>--</td><td>8.785</td><td>0.022</td></tr>\n",
       "<tr><td>945419063170296576</td><td>NGC_2281</td><td>CantatGaudin_2018</td><td>945419063170296576</td><td>101.716</td><td>40.2632</td><td>-2.70757</td><td>-8.49188</td><td>1.90425</td><td>16.5958</td><td>17.5033</td><td>15.6462</td><td>NGC_2281</td><td>NGC_2281</td><td>string_match</td><td>False</td><td>--</td><td>8.785</td><td>0.022</td></tr>\n",
       "<tr><td>945432910144840064</td><td>NGC_2281</td><td>CantatGaudin_2018</td><td>945432910144840064</td><td>101.702</td><td>40.388</td><td>-3.05348</td><td>-7.99758</td><td>1.86801</td><td>10.371</td><td>10.4678</td><td>10.2173</td><td>NGC_2281</td><td>NGC_2281</td><td>string_match</td><td>False</td><td>--</td><td>8.785</td><td>0.022</td></tr>\n",
       "<tr><td>945436655356176768</td><td>NGC_2281</td><td>CantatGaudin_2018</td><td>945436655356176768</td><td>101.532</td><td>40.469</td><td>-3.00449</td><td>-8.10515</td><td>1.96373</td><td>15.3136</td><td>16.0581</td><td>14.478</td><td>NGC_2281</td><td>NGC_2281</td><td>string_match</td><td>False</td><td>--</td><td>8.785</td><td>0.022</td></tr>\n",
       "<tr><td>945436689715913600</td><td>NGC_2281</td><td>CantatGaudin_2018</td><td>945436689715913600</td><td>101.545</td><td>40.4724</td><td>-2.95777</td><td>-8.16201</td><td>1.88332</td><td>12.8916</td><td>13.2114</td><td>12.4145</td><td>NGC_2281</td><td>NGC_2281</td><td>string_match</td><td>False</td><td>--</td><td>8.785</td><td>0.022</td></tr>\n",
       "<tr><td>945438957458630528</td><td>NGC_2281</td><td>CantatGaudin_2018</td><td>945438957458630528</td><td>101.621</td><td>40.5808</td><td>-2.88497</td><td>-8.20141</td><td>1.94746</td><td>16.7202</td><td>17.647</td><td>15.7681</td><td>NGC_2281</td><td>NGC_2281</td><td>string_match</td><td>False</td><td>--</td><td>8.785</td><td>0.022</td></tr>\n",
       "<tr><td>945442251696626176</td><td>NGC_2281</td><td>CantatGaudin_2018</td><td>945442251696626176</td><td>102.109</td><td>--</td><td>--</td><td>--</td><td>--</td><td>--</td><td>--</td><td>--</td><td>--</td><td>--</td><td>--</td><td>--</td><td>--</td><td>--</td><td>--</td></tr>\n",
       "</table>"
      ],
      "text/plain": [
       "<Table length=234914>\n",
       "        ID         Cluster         Ref        ...  Com     logt   e_logt\n",
       "                                              ...          [yr]    [yr] \n",
       "      int64         str113        str247      ... str144 float64 float64\n",
       "------------------ -------- ----------------- ... ------ ------- -------\n",
       "   915553884118144       --     Zari_2018_UMS ...     --      --      --\n",
       "  1195551392247936       --     Zari_2018_UMS ...     --      --      --\n",
       "  1402912413121792       --     Zari_2018_UMS ...     --      --      --\n",
       "  1546703623466880       --     Zari_2018_UMS ...     --      --      --\n",
       "  1939920764151808       --     Zari_2018_PMS ...     --      --      --\n",
       "  2015099871749760       --     Zari_2018_UMS ...     --      --      --\n",
       "  2058736739430272       --     Zari_2018_UMS ...     --      --      --\n",
       "  2151508033360512       --     Zari_2018_PMS ...     --      --      --\n",
       "  2261149958207104       --     Zari_2018_UMS ...     --      --      --\n",
       "               ...      ...               ... ...    ...     ...     ...\n",
       "945413217718140928 NGC_2281 CantatGaudin_2018 ...     --   8.785   0.022\n",
       "945415249239321088       --     Zari_2018_UMS ...     --      --      --\n",
       "945418925731348352       --     Zari_2018_UMS ...     --      --      --\n",
       "945418960091083520 NGC_2281 CantatGaudin_2018 ...     --   8.785   0.022\n",
       "945419063170296576 NGC_2281 CantatGaudin_2018 ...     --   8.785   0.022\n",
       "945432910144840064 NGC_2281 CantatGaudin_2018 ...     --   8.785   0.022\n",
       "945436655356176768 NGC_2281 CantatGaudin_2018 ...     --   8.785   0.022\n",
       "945436689715913600 NGC_2281 CantatGaudin_2018 ...     --   8.785   0.022\n",
       "945438957458630528 NGC_2281 CantatGaudin_2018 ...     --   8.785   0.022\n",
       "945442251696626176 NGC_2281 CantatGaudin_2018 ...     --      --      --"
      ]
     },
     "execution_count": 15,
     "metadata": {},
     "output_type": "execute_result"
    }
   ],
   "source": [
    "from astropy.io import ascii\n",
    "\n",
    "tab = ascii.read(fp, format=\"cds\",encoding=\"ISO-8859–1\", guess=False)\n",
    "tab"
   ]
  },
  {
   "cell_type": "markdown",
   "metadata": {},
   "source": [
    "### convert into pandas dataframe"
   ]
  },
  {
   "cell_type": "code",
   "execution_count": 16,
   "metadata": {},
   "outputs": [],
   "source": [
    "df = tab.to_pandas()"
   ]
  },
  {
   "cell_type": "markdown",
   "metadata": {},
   "source": [
    "### convert to dask dataframe"
   ]
  },
  {
   "cell_type": "raw",
   "metadata": {},
   "source": [
    "   1- 19 I19    ---      ID       Gaia DR2 identifier  \n",
    "  21-133 A113   ---      Cluster  Cluster identifier (1)\n",
    " 135-381 A247   ---      Ref      Reference (1)\n",
    " 383-569 A187   ---      CName    External catalog name (1)\n",
    " 571-582 E12.5  deg      RAdeg    Right Ascension in decimal degrees (J2015.5)\n",
    " 584-595 E12.5  deg      DEdeg    Declination in decimal degrees (J2015.5)\n",
    " 597-608 E12.5  mas/yr   pmRA     ? Gaia DR2 proper motion along RA\n",
    " 610-621 E12.5  mas/yr   pmDE     ? Gaia DR2 proper motion along DE\n",
    " 623-634 E12.5  mas      plx      ? Gaia DR2 parallax\n",
    " 636-642 F7.4   mag      Gmag     Gaia DR2 broad band magnitude\n",
    " 644-650 F7.4   mag      GBp      ? Gaia DR2 Blue band mangitude\n",
    " 652-658 F7.4   mag      GRp      Gaia DR2 Red band mangitude\n",
    " 660-676 A17    ---      K13      Kharchenko et al. 2013 name match (2)\n",
    " 678-694 A17    ---      Unique   Unique cluster name (3)\n",
    " 696-726 A31    ---      How      Method for name matching; see Appendix B\n",
    " 728-732 A5     ---      inK13    Cluster found in K13; true or false\n",
    " 734-877 A144   ---      Com      K13 summarizing cluster information comment\n",
    " 879-884 F6.3   [yr]     logt     ? log_10_ age from K13\n",
    " 886-890 F5.3   [yr]   e_logt     ? Uncertainty in logt"
   ]
  },
  {
   "cell_type": "code",
   "execution_count": 17,
   "metadata": {},
   "outputs": [],
   "source": [
    "import dask.dataframe as dd\n",
    "\n",
    "columns = 'Cluster Ref CName RAdeg DEdeg pmRA pmDE plx Gmag GBp GRp K13 Unique How inK13 Com logt e_logt'.split()\n",
    "df = dd.from_pandas(df, chunksize=20000)"
   ]
  },
  {
   "cell_type": "code",
   "execution_count": 18,
   "metadata": {},
   "outputs": [],
   "source": [
    "del tab"
   ]
  },
  {
   "cell_type": "code",
   "execution_count": 7,
   "metadata": {},
   "outputs": [
    {
     "data": {
      "text/plain": [
       "ID           int64\n",
       "Cluster     object\n",
       "Ref         object\n",
       "CName       object\n",
       "RAdeg      float64\n",
       "DEdeg      float64\n",
       "pmRA       float64\n",
       "pmDE       float64\n",
       "plx        float64\n",
       "Gmag       float64\n",
       "GBp        float64\n",
       "GRp        float64\n",
       "K13         object\n",
       "Unique      object\n",
       "How         object\n",
       "inK13       object\n",
       "Com         object\n",
       "logt       float64\n",
       "e_logt     float64\n",
       "dtype: object"
      ]
     },
     "execution_count": 7,
     "metadata": {},
     "output_type": "execute_result"
    }
   ],
   "source": [
    "df.dtypes"
   ]
  },
  {
   "cell_type": "markdown",
   "metadata": {},
   "source": [
    "### saving as csv"
   ]
  },
  {
   "cell_type": "raw",
   "metadata": {},
   "source": [
    "#multiple files with ~4mb each\n",
    "df.to_csv(\"Bouma_table/*.csv\", index=False)"
   ]
  },
  {
   "cell_type": "raw",
   "metadata": {},
   "source": [
    "!ls -lh ../data/TablesBouma2019/*.csv"
   ]
  },
  {
   "cell_type": "code",
   "execution_count": 75,
   "metadata": {},
   "outputs": [],
   "source": [
    "#1 file with ~44mb\n",
    "df.compute().to_csv('master_list.csv', index=False)"
   ]
  },
  {
   "cell_type": "markdown",
   "metadata": {},
   "source": [
    "## plot using hvplot"
   ]
  },
  {
   "cell_type": "raw",
   "metadata": {},
   "source": [
    "import dask.dataframe as dd\n",
    "\n",
    "#load multiple files\n",
    "df = dd.read_csv(\"./Bouma_table/*.csv\")\n",
    "df"
   ]
  },
  {
   "cell_type": "raw",
   "metadata": {},
   "source": [
    "unique_clusters = df.Cluster.unique()\n",
    "unique_clusters"
   ]
  },
  {
   "cell_type": "raw",
   "metadata": {},
   "source": [
    "unique_clusters.compute()"
   ]
  },
  {
   "cell_type": "raw",
   "metadata": {},
   "source": [
    "df.compute().plot(x='RAdeg', y='DEdeg', kind='scatter')"
   ]
  },
  {
   "cell_type": "code",
   "execution_count": 1,
   "metadata": {},
   "outputs": [
    {
     "data": {
      "text/plain": [
       "(234914, 19)"
      ]
     },
     "execution_count": 1,
     "metadata": {},
     "output_type": "execute_result"
    }
   ],
   "source": [
    "import pandas as pd\n",
    "\n",
    "df = pd.read_csv('master_list.csv')\n",
    "df.shape"
   ]
  },
  {
   "cell_type": "code",
   "execution_count": 7,
   "metadata": {},
   "outputs": [
    {
     "data": {
      "text/html": [
       "<div>\n",
       "<style scoped>\n",
       "    .dataframe tbody tr th:only-of-type {\n",
       "        vertical-align: middle;\n",
       "    }\n",
       "\n",
       "    .dataframe tbody tr th {\n",
       "        vertical-align: top;\n",
       "    }\n",
       "\n",
       "    .dataframe thead th {\n",
       "        text-align: right;\n",
       "    }\n",
       "</style>\n",
       "<table border=\"1\" class=\"dataframe\">\n",
       "  <thead>\n",
       "    <tr style=\"text-align: right;\">\n",
       "      <th></th>\n",
       "      <th>ID</th>\n",
       "      <th>Cluster</th>\n",
       "      <th>Ref</th>\n",
       "      <th>CName</th>\n",
       "      <th>RAdeg</th>\n",
       "      <th>DEdeg</th>\n",
       "      <th>pmRA</th>\n",
       "      <th>pmDE</th>\n",
       "      <th>plx</th>\n",
       "      <th>Gmag</th>\n",
       "      <th>GBp</th>\n",
       "      <th>GRp</th>\n",
       "      <th>K13</th>\n",
       "      <th>Unique</th>\n",
       "      <th>How</th>\n",
       "      <th>inK13</th>\n",
       "      <th>Com</th>\n",
       "      <th>logt</th>\n",
       "      <th>e_logt</th>\n",
       "    </tr>\n",
       "  </thead>\n",
       "  <tbody>\n",
       "    <tr>\n",
       "      <th>0</th>\n",
       "      <td>915553884118144</td>\n",
       "      <td>NaN</td>\n",
       "      <td>Zari_2018_UMS</td>\n",
       "      <td>915553884118144</td>\n",
       "      <td>45.4082</td>\n",
       "      <td>2.16827</td>\n",
       "      <td>-5.33216</td>\n",
       "      <td>-4.48147</td>\n",
       "      <td>2.16337</td>\n",
       "      <td>9.0710</td>\n",
       "      <td>9.1287</td>\n",
       "      <td>8.9934</td>\n",
       "      <td>NaN</td>\n",
       "      <td>NaN</td>\n",
       "      <td>NaN</td>\n",
       "      <td>NaN</td>\n",
       "      <td>NaN</td>\n",
       "      <td>NaN</td>\n",
       "      <td>NaN</td>\n",
       "    </tr>\n",
       "    <tr>\n",
       "      <th>1</th>\n",
       "      <td>1195551392247936</td>\n",
       "      <td>NaN</td>\n",
       "      <td>Zari_2018_UMS</td>\n",
       "      <td>1195551392247936</td>\n",
       "      <td>43.8815</td>\n",
       "      <td>2.01822</td>\n",
       "      <td>6.07063</td>\n",
       "      <td>-11.76180</td>\n",
       "      <td>6.10161</td>\n",
       "      <td>6.5750</td>\n",
       "      <td>6.5825</td>\n",
       "      <td>6.6281</td>\n",
       "      <td>NaN</td>\n",
       "      <td>NaN</td>\n",
       "      <td>NaN</td>\n",
       "      <td>NaN</td>\n",
       "      <td>NaN</td>\n",
       "      <td>NaN</td>\n",
       "      <td>NaN</td>\n",
       "    </tr>\n",
       "    <tr>\n",
       "      <th>2</th>\n",
       "      <td>1402912413121792</td>\n",
       "      <td>NaN</td>\n",
       "      <td>Zari_2018_UMS</td>\n",
       "      <td>1402912413121792</td>\n",
       "      <td>44.3752</td>\n",
       "      <td>2.89590</td>\n",
       "      <td>7.40878</td>\n",
       "      <td>-14.30870</td>\n",
       "      <td>2.09202</td>\n",
       "      <td>10.3670</td>\n",
       "      <td>10.4273</td>\n",
       "      <td>10.2129</td>\n",
       "      <td>NaN</td>\n",
       "      <td>NaN</td>\n",
       "      <td>NaN</td>\n",
       "      <td>NaN</td>\n",
       "      <td>NaN</td>\n",
       "      <td>NaN</td>\n",
       "      <td>NaN</td>\n",
       "    </tr>\n",
       "    <tr>\n",
       "      <th>3</th>\n",
       "      <td>1546703623466880</td>\n",
       "      <td>NaN</td>\n",
       "      <td>Zari_2018_UMS</td>\n",
       "      <td>1546703623466880</td>\n",
       "      <td>42.9593</td>\n",
       "      <td>2.92046</td>\n",
       "      <td>1.59750</td>\n",
       "      <td>1.72112</td>\n",
       "      <td>2.85330</td>\n",
       "      <td>10.0334</td>\n",
       "      <td>10.2293</td>\n",
       "      <td>9.7443</td>\n",
       "      <td>NaN</td>\n",
       "      <td>NaN</td>\n",
       "      <td>NaN</td>\n",
       "      <td>NaN</td>\n",
       "      <td>NaN</td>\n",
       "      <td>NaN</td>\n",
       "      <td>NaN</td>\n",
       "    </tr>\n",
       "    <tr>\n",
       "      <th>4</th>\n",
       "      <td>1939920764151808</td>\n",
       "      <td>NaN</td>\n",
       "      <td>Zari_2018_PMS</td>\n",
       "      <td>1939920764151808</td>\n",
       "      <td>45.5998</td>\n",
       "      <td>3.70765</td>\n",
       "      <td>2.25357</td>\n",
       "      <td>-8.90602</td>\n",
       "      <td>8.91902</td>\n",
       "      <td>14.3586</td>\n",
       "      <td>15.9104</td>\n",
       "      <td>13.1393</td>\n",
       "      <td>NaN</td>\n",
       "      <td>NaN</td>\n",
       "      <td>NaN</td>\n",
       "      <td>NaN</td>\n",
       "      <td>NaN</td>\n",
       "      <td>NaN</td>\n",
       "      <td>NaN</td>\n",
       "    </tr>\n",
       "    <tr>\n",
       "      <th>...</th>\n",
       "      <td>...</td>\n",
       "      <td>...</td>\n",
       "      <td>...</td>\n",
       "      <td>...</td>\n",
       "      <td>...</td>\n",
       "      <td>...</td>\n",
       "      <td>...</td>\n",
       "      <td>...</td>\n",
       "      <td>...</td>\n",
       "      <td>...</td>\n",
       "      <td>...</td>\n",
       "      <td>...</td>\n",
       "      <td>...</td>\n",
       "      <td>...</td>\n",
       "      <td>...</td>\n",
       "      <td>...</td>\n",
       "      <td>...</td>\n",
       "      <td>...</td>\n",
       "      <td>...</td>\n",
       "    </tr>\n",
       "    <tr>\n",
       "      <th>234909</th>\n",
       "      <td>945432910144840064</td>\n",
       "      <td>NGC_2281</td>\n",
       "      <td>CantatGaudin_2018</td>\n",
       "      <td>945432910144840064</td>\n",
       "      <td>101.7020</td>\n",
       "      <td>40.38800</td>\n",
       "      <td>-3.05348</td>\n",
       "      <td>-7.99758</td>\n",
       "      <td>1.86801</td>\n",
       "      <td>10.3710</td>\n",
       "      <td>10.4678</td>\n",
       "      <td>10.2173</td>\n",
       "      <td>NGC_2281</td>\n",
       "      <td>NGC_2281</td>\n",
       "      <td>string_match</td>\n",
       "      <td>False</td>\n",
       "      <td>NaN</td>\n",
       "      <td>8.785</td>\n",
       "      <td>0.022</td>\n",
       "    </tr>\n",
       "    <tr>\n",
       "      <th>234910</th>\n",
       "      <td>945436655356176768</td>\n",
       "      <td>NGC_2281</td>\n",
       "      <td>CantatGaudin_2018</td>\n",
       "      <td>945436655356176768</td>\n",
       "      <td>101.5320</td>\n",
       "      <td>40.46900</td>\n",
       "      <td>-3.00449</td>\n",
       "      <td>-8.10515</td>\n",
       "      <td>1.96373</td>\n",
       "      <td>15.3136</td>\n",
       "      <td>16.0581</td>\n",
       "      <td>14.4780</td>\n",
       "      <td>NGC_2281</td>\n",
       "      <td>NGC_2281</td>\n",
       "      <td>string_match</td>\n",
       "      <td>False</td>\n",
       "      <td>NaN</td>\n",
       "      <td>8.785</td>\n",
       "      <td>0.022</td>\n",
       "    </tr>\n",
       "    <tr>\n",
       "      <th>234911</th>\n",
       "      <td>945436689715913600</td>\n",
       "      <td>NGC_2281</td>\n",
       "      <td>CantatGaudin_2018</td>\n",
       "      <td>945436689715913600</td>\n",
       "      <td>101.5450</td>\n",
       "      <td>40.47240</td>\n",
       "      <td>-2.95777</td>\n",
       "      <td>-8.16201</td>\n",
       "      <td>1.88332</td>\n",
       "      <td>12.8916</td>\n",
       "      <td>13.2114</td>\n",
       "      <td>12.4145</td>\n",
       "      <td>NGC_2281</td>\n",
       "      <td>NGC_2281</td>\n",
       "      <td>string_match</td>\n",
       "      <td>False</td>\n",
       "      <td>NaN</td>\n",
       "      <td>8.785</td>\n",
       "      <td>0.022</td>\n",
       "    </tr>\n",
       "    <tr>\n",
       "      <th>234912</th>\n",
       "      <td>945438957458630528</td>\n",
       "      <td>NGC_2281</td>\n",
       "      <td>CantatGaudin_2018</td>\n",
       "      <td>945438957458630528</td>\n",
       "      <td>101.6210</td>\n",
       "      <td>40.58080</td>\n",
       "      <td>-2.88497</td>\n",
       "      <td>-8.20141</td>\n",
       "      <td>1.94746</td>\n",
       "      <td>16.7202</td>\n",
       "      <td>17.6470</td>\n",
       "      <td>15.7681</td>\n",
       "      <td>NGC_2281</td>\n",
       "      <td>NGC_2281</td>\n",
       "      <td>string_match</td>\n",
       "      <td>False</td>\n",
       "      <td>NaN</td>\n",
       "      <td>8.785</td>\n",
       "      <td>0.022</td>\n",
       "    </tr>\n",
       "    <tr>\n",
       "      <th>234913</th>\n",
       "      <td>945442251696626176</td>\n",
       "      <td>NGC_2281</td>\n",
       "      <td>CantatGaudin_2018</td>\n",
       "      <td>945442251696626176</td>\n",
       "      <td>102.1090</td>\n",
       "      <td>NaN</td>\n",
       "      <td>NaN</td>\n",
       "      <td>NaN</td>\n",
       "      <td>NaN</td>\n",
       "      <td>NaN</td>\n",
       "      <td>NaN</td>\n",
       "      <td>NaN</td>\n",
       "      <td>NaN</td>\n",
       "      <td>NaN</td>\n",
       "      <td>NaN</td>\n",
       "      <td>NaN</td>\n",
       "      <td>NaN</td>\n",
       "      <td>NaN</td>\n",
       "      <td>NaN</td>\n",
       "    </tr>\n",
       "  </tbody>\n",
       "</table>\n",
       "<p>234914 rows × 19 columns</p>\n",
       "</div>"
      ],
      "text/plain": [
       "                        ID   Cluster                Ref               CName  \\\n",
       "0          915553884118144       NaN      Zari_2018_UMS     915553884118144   \n",
       "1         1195551392247936       NaN      Zari_2018_UMS    1195551392247936   \n",
       "2         1402912413121792       NaN      Zari_2018_UMS    1402912413121792   \n",
       "3         1546703623466880       NaN      Zari_2018_UMS    1546703623466880   \n",
       "4         1939920764151808       NaN      Zari_2018_PMS    1939920764151808   \n",
       "...                    ...       ...                ...                 ...   \n",
       "234909  945432910144840064  NGC_2281  CantatGaudin_2018  945432910144840064   \n",
       "234910  945436655356176768  NGC_2281  CantatGaudin_2018  945436655356176768   \n",
       "234911  945436689715913600  NGC_2281  CantatGaudin_2018  945436689715913600   \n",
       "234912  945438957458630528  NGC_2281  CantatGaudin_2018  945438957458630528   \n",
       "234913  945442251696626176  NGC_2281  CantatGaudin_2018  945442251696626176   \n",
       "\n",
       "           RAdeg     DEdeg     pmRA      pmDE      plx     Gmag      GBp  \\\n",
       "0        45.4082   2.16827 -5.33216  -4.48147  2.16337   9.0710   9.1287   \n",
       "1        43.8815   2.01822  6.07063 -11.76180  6.10161   6.5750   6.5825   \n",
       "2        44.3752   2.89590  7.40878 -14.30870  2.09202  10.3670  10.4273   \n",
       "3        42.9593   2.92046  1.59750   1.72112  2.85330  10.0334  10.2293   \n",
       "4        45.5998   3.70765  2.25357  -8.90602  8.91902  14.3586  15.9104   \n",
       "...          ...       ...      ...       ...      ...      ...      ...   \n",
       "234909  101.7020  40.38800 -3.05348  -7.99758  1.86801  10.3710  10.4678   \n",
       "234910  101.5320  40.46900 -3.00449  -8.10515  1.96373  15.3136  16.0581   \n",
       "234911  101.5450  40.47240 -2.95777  -8.16201  1.88332  12.8916  13.2114   \n",
       "234912  101.6210  40.58080 -2.88497  -8.20141  1.94746  16.7202  17.6470   \n",
       "234913  102.1090       NaN      NaN       NaN      NaN      NaN      NaN   \n",
       "\n",
       "            GRp       K13    Unique           How  inK13  Com   logt  e_logt  \n",
       "0        8.9934       NaN       NaN           NaN    NaN  NaN    NaN     NaN  \n",
       "1        6.6281       NaN       NaN           NaN    NaN  NaN    NaN     NaN  \n",
       "2       10.2129       NaN       NaN           NaN    NaN  NaN    NaN     NaN  \n",
       "3        9.7443       NaN       NaN           NaN    NaN  NaN    NaN     NaN  \n",
       "4       13.1393       NaN       NaN           NaN    NaN  NaN    NaN     NaN  \n",
       "...         ...       ...       ...           ...    ...  ...    ...     ...  \n",
       "234909  10.2173  NGC_2281  NGC_2281  string_match  False  NaN  8.785   0.022  \n",
       "234910  14.4780  NGC_2281  NGC_2281  string_match  False  NaN  8.785   0.022  \n",
       "234911  12.4145  NGC_2281  NGC_2281  string_match  False  NaN  8.785   0.022  \n",
       "234912  15.7681  NGC_2281  NGC_2281  string_match  False  NaN  8.785   0.022  \n",
       "234913      NaN       NaN       NaN           NaN    NaN  NaN    NaN     NaN  \n",
       "\n",
       "[234914 rows x 19 columns]"
      ]
     },
     "execution_count": 7,
     "metadata": {},
     "output_type": "execute_result"
    }
   ],
   "source": [
    "df"
   ]
  },
  {
   "cell_type": "raw",
   "metadata": {},
   "source": [
    "import hvplot.pandas \n",
    "\n",
    "df.hvplot(x='RAdeg', y='DEdeg', kind='scatter')"
   ]
  },
  {
   "cell_type": "code",
   "execution_count": null,
   "metadata": {},
   "outputs": [],
   "source": []
  },
  {
   "cell_type": "raw",
   "metadata": {},
   "source": [
    "## splitting\n",
    "\n",
    "To split the mrt file, I split them into 200-mb chunks"
   ]
  },
  {
   "cell_type": "raw",
   "metadata": {},
   "source": [
    "!split -d -b 200M ../data/TablesBouma2019/apjsab4a7et1_mrt.txt ../data/TablesBouma2019/apjsab4a7et1_mrt"
   ]
  },
  {
   "cell_type": "raw",
   "metadata": {},
   "source": [
    "!cat ../data/TablesBouma2019/apjsab4a7et1_mrt_header.txt ../data/TablesBouma2019/apjsab4a7et1_mrt01  > ../data/TablesBouma2019/apjsab4a7et1_mrt01.txt"
   ]
  },
  {
   "cell_type": "code",
   "execution_count": 1,
   "metadata": {},
   "outputs": [
    {
     "name": "stdout",
     "output_type": "stream",
     "text": [
      "../data/TablesBouma2019/apjsab4a7et1_mrt00.txt\r\n",
      "../data/TablesBouma2019/apjsab4a7et1_mrt01\r\n",
      "../data/TablesBouma2019/apjsab4a7et1_mrt01.txt\r\n",
      "../data/TablesBouma2019/apjsab4a7et1_mrt02\r\n",
      "../data/TablesBouma2019/apjsab4a7et1_mrt02.txt\r\n",
      "../data/TablesBouma2019/apjsab4a7et1_mrt03\r\n",
      "../data/TablesBouma2019/apjsab4a7et1_mrt03.txt\r\n",
      "../data/TablesBouma2019/apjsab4a7et1_mrt04\r\n",
      "../data/TablesBouma2019/apjsab4a7et1_mrt04.txt\r\n",
      "../data/TablesBouma2019/apjsab4a7et1_mrt_header.txt\r\n",
      "../data/TablesBouma2019/apjsab4a7et1_mrt.txt\r\n"
     ]
    }
   ],
   "source": [
    "!ls ../data/TablesBouma2019/apjsab4a7et1_mrt*"
   ]
  },
  {
   "cell_type": "code",
   "execution_count": null,
   "metadata": {},
   "outputs": [],
   "source": []
  }
 ],
 "metadata": {
  "kernelspec": {
   "display_name": "Python 3",
   "language": "python",
   "name": "python3"
  },
  "language_info": {
   "codemirror_mode": {
    "name": "ipython",
    "version": 3
   },
   "file_extension": ".py",
   "mimetype": "text/x-python",
   "name": "python",
   "nbconvert_exporter": "python",
   "pygments_lexer": "ipython3",
   "version": "3.7.6"
  },
  "toc": {
   "base_numbering": 1,
   "nav_menu": {},
   "number_sections": true,
   "sideBar": true,
   "skip_h1_title": true,
   "title_cell": "Table of Contents",
   "title_sidebar": "Contents",
   "toc_cell": false,
   "toc_position": {},
   "toc_section_display": true,
   "toc_window_display": true
  }
 },
 "nbformat": 4,
 "nbformat_minor": 2
}
