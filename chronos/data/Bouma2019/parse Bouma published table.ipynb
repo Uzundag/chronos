version https://git-lfs.github.com/spec/v1
oid sha256:3695405d8bf81d0ba42fb51e67e99ff7758a2596f35cb694382b438e4f933c75
size 32448
